{
 "cells": [
  {
   "cell_type": "markdown",
   "metadata": {},
   "source": [
    "# タクシー運賃の予測 - Part1:モデリングのためのデータセットの準備"
   ]
  },
  {
   "cell_type": "markdown",
   "metadata": {},
   "source": [
    "ニューヨーク市のタクシーの乗車と降車に関するデータセットから、タクシー運賃の予測モデルを作成します。ここでは準備としてデータセットのダウンロードとクレンジングを行います。\n",
    "<br>\n",
    "<br>\n",
    "こちらは以下のチュートリアルをベースとしています。\n",
    "<br>\n",
    "https://docs.microsoft.com/ja-jp/azure/machine-learning/service/tutorial-data-prep"
   ]
  },
  {
   "cell_type": "markdown",
   "metadata": {},
   "source": [
    "## 1．データの読み込み"
   ]
  },
  {
   "cell_type": "markdown",
   "metadata": {},
   "source": [
    "2つのNYCタクシーデータセット (ブルータクシーデータとイエロータクシーデータ)をDataflowオブジェクトにダウンロードします。Dataflowオブジェクトは、DataFrameに類似したオブジェクトです。"
   ]
  },
  {
   "cell_type": "code",
   "execution_count": null,
   "metadata": {},
   "outputs": [],
   "source": [
    "import azureml.dataprep as dprep\n",
    "from IPython.display import display\n",
    "\n",
    "dataset_root = \"https://dprepdata.blob.core.windows.net/demo\"\n",
    "\n",
    "green_path = \"/\".join([dataset_root, \"green-small/*\"])\n",
    "yellow_path = \"/\".join([dataset_root, \"yellow-small/*\"]) \n",
    "\n",
    "green_df_raw = dprep.read_csv(path=green_path, header=dprep.PromoteHeadersMode.GROUPED)\n",
    "# ファイルの種類を自動判別\n",
    "yellow_df_raw = dprep.auto_read_file(path=yellow_path)\n",
    "\n",
    "display(green_df_raw.head(5))\n",
    "display(green_df_raw.head(5))"
   ]
  },
  {
   "cell_type": "markdown",
   "metadata": {},
   "source": [
    "## 2．データのクレンジング"
   ]
  },
  {
   "cell_type": "markdown",
   "metadata": {},
   "source": [
    "ブルータクシーデータに対して、全ての列の値がnullのレコードを削除し、列名を変更します。"
   ]
  },
  {
   "cell_type": "code",
   "execution_count": null,
   "metadata": {},
   "outputs": [],
   "source": [
    "all_columns = dprep.ColumnSelector(term=\".\", use_regex=True)\n",
    "drop_if_all_null = [all_columns, dprep.ColumnRelationship(dprep.ColumnRelationship.ALL)]\n",
    "useful_columns = [\n",
    "    \"cost\", \"distance\", \"dropoff_datetime\", \"dropoff_latitude\", \"dropoff_longitude\",\n",
    "    \"passengers\", \"pickup_datetime\", \"pickup_latitude\", \"pickup_longitude\", \"store_forward\", \"vendor\"\n",
    "]"
   ]
  },
  {
   "cell_type": "code",
   "execution_count": null,
   "metadata": {
    "scrolled": true
   },
   "outputs": [],
   "source": [
    "green_df = (green_df_raw\n",
    "            .replace_na(columns=all_columns) \n",
    "            .drop_nulls(columns=all_columns, column_relationship=dprep.ColumnRelationship(dprep.ColumnRelationship.ALL))\n",
    "            .rename_columns(column_pairs={\n",
    "                \"VendorID\": \"vendor\",\n",
    "                \"lpep_pickup_datetime\": \"pickup_datetime\",\n",
    "                \"Lpep_dropoff_datetime\": \"dropoff_datetime\",\n",
    "                \"lpep_dropoff_datetime\": \"dropoff_datetime\",\n",
    "                \"Store_and_fwd_flag\": \"store_forward\",\n",
    "                \"store_and_fwd_flag\": \"store_forward\",\n",
    "                \"Pickup_longitude\": \"pickup_longitude\",\n",
    "                \"Pickup_latitude\": \"pickup_latitude\",\n",
    "                \"Dropoff_longitude\": \"dropoff_longitude\",\n",
    "                \"Dropoff_latitude\": \"dropoff_latitude\",\n",
    "                \"Passenger_count\": \"passengers\",\n",
    "                \"Fare_amount\": \"cost\",\n",
    "                \"Trip_distance\": \"distance\"\n",
    "            })\n",
    "            .keep_columns(columns=useful_columns))\n",
    "\n",
    "green_df.head(5)"
   ]
  },
  {
   "cell_type": "markdown",
   "metadata": {},
   "source": [
    "イエロータクシーデータに対して、同様のクレンジングを行います。"
   ]
  },
  {
   "cell_type": "code",
   "execution_count": null,
   "metadata": {},
   "outputs": [],
   "source": [
    "yellow_df = (yellow_df_raw\n",
    "    .replace_na(columns=all_columns)\n",
    "    .drop_nulls(*drop_if_all_null)\n",
    "    .rename_columns(column_pairs={\n",
    "        \"vendor_name\": \"vendor\",\n",
    "        \"VendorID\": \"vendor\",\n",
    "        \"vendor_id\": \"vendor\",\n",
    "        \"Trip_Pickup_DateTime\": \"pickup_datetime\",\n",
    "        \"tpep_pickup_datetime\": \"pickup_datetime\",\n",
    "        \"Trip_Dropoff_DateTime\": \"dropoff_datetime\",\n",
    "        \"tpep_dropoff_datetime\": \"dropoff_datetime\",\n",
    "        \"store_and_forward\": \"store_forward\",\n",
    "        \"store_and_fwd_flag\": \"store_forward\",\n",
    "        \"Start_Lon\": \"pickup_longitude\",\n",
    "        \"Start_Lat\": \"pickup_latitude\",\n",
    "        \"End_Lon\": \"dropoff_longitude\",\n",
    "        \"End_Lat\": \"dropoff_latitude\",\n",
    "        \"Passenger_Count\": \"passengers\",\n",
    "        \"passenger_count\": \"passengers\",\n",
    "        \"Fare_Amt\": \"cost\",\n",
    "        \"fare_amount\": \"cost\",\n",
    "        \"Trip_Distance\": \"distance\",\n",
    "        \"trip_distance\": \"distance\"\n",
    "    })\n",
    "    .keep_columns(columns=useful_columns))\n",
    "yellow_df.head(5)"
   ]
  },
  {
   "cell_type": "markdown",
   "metadata": {},
   "source": [
    "ブルータクシーデータとイエロータクシーデータを結合します。"
   ]
  },
  {
   "cell_type": "code",
   "execution_count": null,
   "metadata": {},
   "outputs": [],
   "source": [
    "combined_df = green_df.append_rows([yellow_df])"
   ]
  },
  {
   "cell_type": "markdown",
   "metadata": {},
   "source": [
    "Dataflowオブジェクトの型を確認します。"
   ]
  },
  {
   "cell_type": "code",
   "execution_count": null,
   "metadata": {},
   "outputs": [],
   "source": [
    "combined_df.dtypes"
   ]
  },
  {
   "cell_type": "markdown",
   "metadata": {},
   "source": [
    "乗車と降車の座標の統計情報を調査し、データの分散を確認します。"
   ]
  },
  {
   "cell_type": "code",
   "execution_count": null,
   "metadata": {},
   "outputs": [],
   "source": [
    "# 座標のデータ型が文字型のため、小数型に変換\n",
    "decimal_type = dprep.TypeConverter(data_type=dprep.FieldType.DECIMAL)\n",
    "combined_df = combined_df.set_column_types(type_conversions={\n",
    "    \"pickup_longitude\": decimal_type,\n",
    "    \"pickup_latitude\": decimal_type,\n",
    "    \"dropoff_longitude\": decimal_type,\n",
    "    \"dropoff_latitude\": decimal_type\n",
    "})\n",
    "\n",
    "combined_df.keep_columns(columns=[\n",
    "    \"pickup_longitude\", \"pickup_latitude\", \"dropoff_longitude\", \"dropoff_latitude\"\n",
    "]).get_profile()"
   ]
  },
  {
   "cell_type": "markdown",
   "metadata": {},
   "source": [
    "ニューヨーク市に存在しない座標があるため、座標に対してフィルタリングをかけます。"
   ]
  },
  {
   "cell_type": "code",
   "execution_count": null,
   "metadata": {},
   "outputs": [],
   "source": [
    "latlong_filtered_df = (combined_df\n",
    "                      .drop_nulls(\n",
    "                          columns=[\"pickup_longitude\", \"pickup_latitude\", \"dropoff_longitude\", \"dropoff_latitude\"],\n",
    "                          column_relationship=dprep.ColumnRelationship(dprep.ColumnRelationship.ANY)\n",
    "                      )\n",
    "                       .filter(dprep.f_and(\n",
    "                           dprep.col(\"pickup_longitude\") <= -73.72,\n",
    "                           dprep.col(\"pickup_longitude\") >= -74.09,\n",
    "                           dprep.col(\"pickup_latitude\") <= 40.88,\n",
    "                           dprep.col(\"pickup_latitude\") >= 40.53,\n",
    "                           dprep.col(\"dropoff_longitude\") <= -73.72,\n",
    "                           dprep.col(\"dropoff_longitude\") >= -74.09,\n",
    "                           dprep.col(\"dropoff_latitude\") <= 40.88,\n",
    "                           dprep.col(\"dropoff_latitude\") >= 40.53\n",
    "                       )))\n",
    "\n",
    "latlong_filtered_df.keep_columns(columns=[\n",
    "    \"pickup_longitude\", \"pickup_latitude\",\n",
    "    \"dropoff_longitude\", \"dropoff_latitude\"\n",
    "]).get_profile()"
   ]
  },
  {
   "cell_type": "markdown",
   "metadata": {},
   "source": [
    "すべて列についての統計情報を調査します。"
   ]
  },
  {
   "cell_type": "code",
   "execution_count": null,
   "metadata": {},
   "outputs": [],
   "source": [
    "latlong_filtered_df.get_profile()"
   ]
  },
  {
   "cell_type": "markdown",
   "metadata": {},
   "source": [
    "store_fowared列の値には欠損値が存在するため、これらをN値に置換します。"
   ]
  },
  {
   "cell_type": "code",
   "execution_count": null,
   "metadata": {},
   "outputs": [],
   "source": [
    "replaced_stfor_vals_df = latlong_filtered_df.fill_nulls(\"store_forward\", \"N\")"
   ]
  },
  {
   "cell_type": "markdown",
   "metadata": {},
   "source": [
    "distance列の最小値が.00のため0に変換し、データ型が文字型のため数値型に変換します。"
   ]
  },
  {
   "cell_type": "code",
   "execution_count": null,
   "metadata": {},
   "outputs": [],
   "source": [
    "replaced_distance_vals_df = replaced_stfor_vals_df.replace(columns=\"distance\", find=\".00\", replace_with=0)\n",
    "replaced_distance_vals_df = replaced_distance_vals_df.to_number([\"distance\"])"
   ]
  },
  {
   "cell_type": "markdown",
   "metadata": {},
   "source": [
    "乗車日時と降車日時の値を、日付と時刻に分割します。"
   ]
  },
  {
   "cell_type": "code",
   "execution_count": null,
   "metadata": {},
   "outputs": [],
   "source": [
    "# split_folumn_by_example関数は、分割パターンを指定しない場合は空白、句読点、日付部分で分割\n",
    "time_split_df = (replaced_distance_vals_df\n",
    "                 .split_column_by_example(source_column=\"pickup_datetime\")\n",
    "                 .split_column_by_example(source_column=\"dropoff_datetime\"))\n",
    "\n",
    "time_split_df.head(5)        "
   ]
  },
  {
   "cell_type": "markdown",
   "metadata": {},
   "source": [
    "列名を変更します。"
   ]
  },
  {
   "cell_type": "code",
   "execution_count": null,
   "metadata": {},
   "outputs": [],
   "source": [
    "renamed_col_df = (time_split_df\n",
    "                 .rename_columns(column_pairs={\n",
    "                     \"pickup_datetime_1\": \"pickup_date\",\n",
    "                     \"pickup_datetime_2\": \"pickup_time\",\n",
    "                     \"dropoff_datetime_1\": \"dropoff_date\",\n",
    "                     \"dropoff_datetime_2\": \"dropoff_time\"\n",
    "                 }))\n",
    "\n",
    "renamed_col_df.head(5)"
   ]
  },
  {
   "cell_type": "markdown",
   "metadata": {},
   "source": [
    "乗車と降車の日付をさらに月、日、曜日に分割し、列名を変更します。"
   ]
  },
  {
   "cell_type": "code",
   "execution_count": null,
   "metadata": {},
   "outputs": [],
   "source": [
    "transformed_features_df = (renamed_col_df\n",
    "                           .derive_column_by_example(\n",
    "                           source_columns=\"pickup_date\",\n",
    "                           new_column_name=\"pickup_weekday\",\n",
    "                           example_data=[(\"2013-08-22\", \"Thursday\"), (\"2013-11-03\", \"Sunday\")]\n",
    "                           )\n",
    "                           .split_column_by_example(source_column=\"pickup_time\")\n",
    "                           .split_column_by_example(source_column=\"dropoff_time\")\n",
    "                           .split_column_by_example(source_column=\"pickup_time_1\")\n",
    "                           .split_column_by_example(source_column=\"dropoff_time_1\")\n",
    "                           .drop_columns(columns=[\n",
    "                               \"pickup_date\", \"pickup_time\", \"dropoff_date\", \"dropoff_time\",\n",
    "                               \"pickup_date_1\", \"dropoff_date_1\", \"pickup_time_1\", \"dropoff_time_1\"\n",
    "                           ])\n",
    "                           .rename_columns(column_pairs={\n",
    "                               \"pickup_date_2\": \"pickup_month\",\n",
    "                               \"pickup_date_3\": \"pickup_monthday\",\n",
    "                               \"pickup_time_1_1\": \"pickup_hour\",\n",
    "                               \"pickup_time_1_2\": \"pickup_minute\",\n",
    "                               \"pickup_time_2\": \"pickup_second\",\n",
    "                               \"dropoff_date_2\": \"dropoff_month\",\n",
    "                               \"dropoff_date_3\": \"dropoff_monthday\",\n",
    "                               \"dropoff_time_1_1\": \"dropoff_hour\",\n",
    "                               \"dropoff_time_1_2\": \"dropoff_minute\",\n",
    "                               \"dropoff_time_2\": \"dropoff_second\"\n",
    "                           }))\n",
    "\n",
    "transformed_features_df.head(5)"
   ]
  },
  {
   "cell_type": "markdown",
   "metadata": {},
   "source": [
    "不要となったpickup_datetime、dropoff_datetime列を削除します。"
   ]
  },
  {
   "cell_type": "code",
   "execution_count": null,
   "metadata": {},
   "outputs": [],
   "source": [
    "processed_df = transformed_features_df.drop_columns(columns=[\"pickup_datetime\", \"dropoff_datetime\"])\n",
    "\n",
    "processed_df.head(5)"
   ]
  },
  {
   "cell_type": "markdown",
   "metadata": {},
   "source": [
    "クレンジング処理後の統計情報を確認します。"
   ]
  },
  {
   "cell_type": "code",
   "execution_count": null,
   "metadata": {},
   "outputs": [],
   "source": [
    "processed_df.get_profile()"
   ]
  },
  {
   "cell_type": "markdown",
   "metadata": {},
   "source": [
    "不適切なデータ型があるため、型の推定機能を使用してデータ型を変換します。"
   ]
  },
  {
   "cell_type": "code",
   "execution_count": null,
   "metadata": {},
   "outputs": [],
   "source": [
    "# データから型を推定\n",
    "type_infer = processed_df.builders.set_column_types()\n",
    "type_infer.learn()\n",
    "type_infer"
   ]
  },
  {
   "cell_type": "code",
   "execution_count": null,
   "metadata": {},
   "outputs": [],
   "source": [
    "# 推定したデータ型を適用\n",
    "type_converted_df = type_infer.to_dataflow()\n",
    "type_converted_df.get_profile()"
   ]
  },
  {
   "cell_type": "markdown",
   "metadata": {},
   "source": [
    "distanceとcostが0のデータは予測の精度を狂わせる可能性があるため、削除します。"
   ]
  },
  {
   "cell_type": "code",
   "execution_count": null,
   "metadata": {},
   "outputs": [],
   "source": [
    "final_df = type_converted_df.filter(dprep.col(\"distance\") > 0)\n",
    "final_df = type_converted_df.filter(dprep.col(\"cost\") > 0)"
   ]
  },
  {
   "cell_type": "markdown",
   "metadata": {},
   "source": [
    "## 3．データセットの保存"
   ]
  },
  {
   "cell_type": "markdown",
   "metadata": {},
   "source": [
    "データセットのDataflowオブジェクトをシリアライズし、他のコードで利用できるように保存します。"
   ]
  },
  {
   "cell_type": "code",
   "execution_count": null,
   "metadata": {},
   "outputs": [],
   "source": [
    "import os\n",
    "\n",
    "file_path = os.path.join(os.getcwd(), \"dflows.dprep\")\n",
    "final_df.save(file_path)"
   ]
  },
  {
   "cell_type": "code",
   "execution_count": null,
   "metadata": {},
   "outputs": [],
   "source": []
  }
 ],
 "metadata": {
  "kernelspec": {
   "display_name": "Python 3",
   "language": "python",
   "name": "python3"
  },
  "language_info": {
   "codemirror_mode": {
    "name": "ipython",
    "version": 3
   },
   "file_extension": ".py",
   "mimetype": "text/x-python",
   "name": "python",
   "nbconvert_exporter": "python",
   "pygments_lexer": "ipython3",
   "version": "3.6.5"
  }
 },
 "nbformat": 4,
 "nbformat_minor": 2
}
