{
 "cells": [
  {
   "cell_type": "markdown",
   "metadata": {},
   "source": [
    "# タクシー運賃の予測 - Part2:予測モデルの構築"
   ]
  },
  {
   "cell_type": "markdown",
   "metadata": {},
   "source": [
    "Automated MLを利用し、タクシー運賃を予測する回帰モデルを構築します。\n",
    "<br>\n",
    "<br>\n",
    "こちらは以下のチュートリアルをベースとしています。\n",
    "<br>\n",
    "https://docs.microsoft.com/ja-jp/azure/machine-learning/service/tutorial-auto-train-models"
   ]
  },
  {
   "cell_type": "markdown",
   "metadata": {},
   "source": [
    "## 1．ワークスペースの構成"
   ]
  },
  {
   "cell_type": "markdown",
   "metadata": {},
   "source": [
    "作成済みワークスペースから、ワークスペースのオブジェクトを取得します。"
   ]
  },
  {
   "cell_type": "code",
   "execution_count": null,
   "metadata": {},
   "outputs": [],
   "source": [
    "import azureml.core\n",
    "import pandas as pd\n",
    "from azureml.core.workspace import Workspace\n",
    "import logging\n",
    "import os\n",
    "\n",
    "ws = Workspace.from_config()\n",
    "\n",
    "# 実験名、フォルダ名は必要に応じて変更してください\n",
    "experiment_name = \"automated-ml-regression\"\n",
    "project_folder = \"./automated-ml-regression\"\n",
    "\n",
    "output = {}\n",
    "output[\"SDK version\"] = azureml.core.VERSION\n",
    "output[\"Subscription ID\"] = ws.subscription_id\n",
    "output[\"Workspace\"] = ws.name\n",
    "output[\"Resource Group\"] = ws.resource_group\n",
    "output[\"Location\"] = ws.location\n",
    "output[\"Project Directory\"] = project_folder\n",
    "pd.set_option(\"display.max_colwidth\", -1)\n",
    "pd.DataFrame(data=output, index=[\"\"]).T"
   ]
  },
  {
   "cell_type": "markdown",
   "metadata": {},
   "source": [
    "## 2．訓練データとテストデータの準備"
   ]
  },
  {
   "cell_type": "markdown",
   "metadata": {},
   "source": [
    "データセットとして用意したDataflowオブジェクトを、デシリアライズします。"
   ]
  },
  {
   "cell_type": "code",
   "execution_count": null,
   "metadata": {},
   "outputs": [],
   "source": [
    "import azureml.dataprep as dprep\n",
    "\n",
    "file_path = os.path.join(os.getcwd(), \"dflows.dprep\")\n",
    "\n",
    "dflow_prepared = dprep.Dataflow.open(file_path)\n",
    "dflow_prepared.get_profile()"
   ]
  },
  {
   "cell_type": "markdown",
   "metadata": {},
   "source": [
    "説明変数flow_Xと目的変数dflow_yを定義します。"
   ]
  },
  {
   "cell_type": "code",
   "execution_count": null,
   "metadata": {},
   "outputs": [],
   "source": [
    "#dflow_X = dflow_prepared.keep_columns([\"pickup_weekday\",\"pickup_hour\", \"distance\",\"passengers\", \"vendor\"])\n",
    "dflow_X = dflow_prepared.drop_columns(\"cost\")\n",
    "dflow_y = dflow_prepared.keep_columns(\"cost\")"
   ]
  },
  {
   "cell_type": "markdown",
   "metadata": {},
   "source": [
    "データセットをトレーニングデータとテストデータに分割します。"
   ]
  },
  {
   "cell_type": "code",
   "execution_count": null,
   "metadata": {},
   "outputs": [],
   "source": [
    "from sklearn.model_selection import train_test_split\n",
    "\n",
    "x_df = dflow_X.to_pandas_dataframe()\n",
    "y_df = dflow_y.to_pandas_dataframe()\n",
    "\n",
    "x_train, x_test, y_train, y_test = train_test_split(x_df, y_df, test_size=0.2, random_state=223)\n",
    "y_train.values.flatten()"
   ]
  },
  {
   "cell_type": "markdown",
   "metadata": {},
   "source": [
    "## 3．Automated MLによる予測モデルのトレーニング"
   ]
  },
  {
   "cell_type": "markdown",
   "metadata": {},
   "source": [
    "Automated MLのパラメータを設定します。ここでは評価メトリックスをスピアマン相関としています。"
   ]
  },
  {
   "cell_type": "code",
   "execution_count": null,
   "metadata": {},
   "outputs": [],
   "source": [
    "from azureml.train.automl import AutoMLConfig\n",
    "\n",
    "automl_settings = {\n",
    "    \"iteration_timeout_minutes\" : 10,\n",
    "    \"iterations\" : 10,\n",
    "    \"primary_metric\" : \"spearman_correlation\",\n",
    "    \"preprocess\" : True,\n",
    "    \"verbosity\" : logging.INFO,\n",
    "    \"n_cross_validations\": 5\n",
    "}\n",
    "\n",
    "automated_ml_config = AutoMLConfig(task = \"regression\",\n",
    "                                  debug_log = \"automated_ml_errors.log\",\n",
    "                                  path = project_folder,\n",
    "                                  X = x_train.values,\n",
    "                                  y = y_train.values.flatten(),\n",
    "                                  **automl_settings)"
   ]
  },
  {
   "cell_type": "markdown",
   "metadata": {},
   "source": [
    "予測モデルをトレーニングします。"
   ]
  },
  {
   "cell_type": "code",
   "execution_count": null,
   "metadata": {},
   "outputs": [],
   "source": [
    "from azureml.core.experiment import Experiment\n",
    "\n",
    "experiment = Experiment(ws, experiment_name)\n",
    "local_run = experiment.submit(automated_ml_config, show_output=True)"
   ]
  },
  {
   "cell_type": "markdown",
   "metadata": {},
   "source": [
    "## 4．トレーニング結果の確認"
   ]
  },
  {
   "cell_type": "markdown",
   "metadata": {},
   "source": [
    "Jupyter Notebookを使っている場合、Jupyter Notebook Widgetを使って結果を視覚化できます。"
   ]
  },
  {
   "cell_type": "code",
   "execution_count": null,
   "metadata": {},
   "outputs": [],
   "source": [
    "from azureml.widgets import RunDetails\n",
    "\n",
    "RunDetails(local_run).show()"
   ]
  },
  {
   "cell_type": "markdown",
   "metadata": {},
   "source": [
    "Pythonのコードで、実行されたすべてのイテレーションのメトリックを取得します。"
   ]
  },
  {
   "cell_type": "code",
   "execution_count": null,
   "metadata": {},
   "outputs": [],
   "source": [
    "children = list(local_run.get_children())\n",
    "metricslist = {}\n",
    "\n",
    "for run in children:\n",
    "    properties = run.get_properties()\n",
    "    metrics = {k: v for k, v in run.get_metrics().items() if isinstance(v, float)}\n",
    "    metricslist[int(properties[\"iteration\"])] = metrics\n",
    "\n",
    "pd.set_option(\"max_columns\", 30)\n",
    "rundata = pd.DataFrame(metricslist).sort_index(1)\n",
    "rundata"
   ]
  },
  {
   "cell_type": "markdown",
   "metadata": {},
   "source": [
    "## 5．最適モデルの取得"
   ]
  },
  {
   "cell_type": "markdown",
   "metadata": {},
   "source": [
    "実行されたイテレーションから最適なモデルを取得します。"
   ]
  },
  {
   "cell_type": "code",
   "execution_count": null,
   "metadata": {},
   "outputs": [],
   "source": [
    "best_run, fitted_model = local_run.get_output()\n",
    "\n",
    "print(best_run)\n",
    "print(fitted_model)"
   ]
  },
  {
   "cell_type": "markdown",
   "metadata": {},
   "source": [
    "## 6．最適モデルの正確性のテスト"
   ]
  },
  {
   "cell_type": "markdown",
   "metadata": {},
   "source": [
    "最適モデルに対してテストデータを適用し、タクシー運賃を予測します。"
   ]
  },
  {
   "cell_type": "code",
   "execution_count": null,
   "metadata": {},
   "outputs": [],
   "source": [
    "y_predict = fitted_model.predict(x_test.values)\n",
    "\n",
    "print(y_predict[:10])"
   ]
  },
  {
   "cell_type": "markdown",
   "metadata": {},
   "source": [
    "散布図を作成し、distance説明変数との相関を視覚化します。"
   ]
  },
  {
   "cell_type": "code",
   "execution_count": null,
   "metadata": {},
   "outputs": [],
   "source": [
    "import matplotlib.pyplot as plt\n",
    "%matplotlib inline\n",
    "\n",
    "fig = plt.figure(figsize=(14, 10))\n",
    "ax1 = fig.add_subplot(111)\n",
    "\n",
    "distance_vals = [x[14] for x in x_test.values]\n",
    "y_actual = y_test.values.flatten().tolist()\n",
    "\n",
    "ax1.scatter(distance_vals[:100], y_predict[:100], s=18, c='b', marker=\"s\", label='Predicted')\n",
    "ax1.scatter(distance_vals[:100], y_actual[:100], s=18, c='r', marker=\"o\", label='Actual')\n",
    "\n",
    "ax1.set_xlabel('distance (mi)')\n",
    "ax1.set_title('Predicted and Actual Cost/Distance')\n",
    "ax1.set_ylabel('Cost ($)')\n",
    "\n",
    "plt.legend(loc='upper left', prop={'size': 12})\n",
    "plt.rcParams.update({'font.size': 14})\n",
    "plt.show()"
   ]
  },
  {
   "cell_type": "code",
   "execution_count": null,
   "metadata": {},
   "outputs": [],
   "source": []
  }
 ],
 "metadata": {
  "kernelspec": {
   "display_name": "Python 3",
   "language": "python",
   "name": "python3"
  },
  "language_info": {
   "codemirror_mode": {
    "name": "ipython",
    "version": 3
   },
   "file_extension": ".py",
   "mimetype": "text/x-python",
   "name": "python",
   "nbconvert_exporter": "python",
   "pygments_lexer": "ipython3",
   "version": "3.6.5"
  }
 },
 "nbformat": 4,
 "nbformat_minor": 2
}
